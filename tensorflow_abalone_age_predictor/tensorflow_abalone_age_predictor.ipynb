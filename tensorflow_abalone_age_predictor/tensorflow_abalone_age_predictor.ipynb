{
 "cells": [
  {
   "cell_type": "markdown",
   "metadata": {},
   "source": [
    "# Abalone age predictor using tf.layers\n",
    "\n",
    "This tutorial covers how to create your own training script using the building\n",
    "blocks provided in `tf.layers`, which will predict the ages of\n",
    "[abalones](https://en.wikipedia.org/wiki/Abalone) based on their physical\n",
    "measurements. You'll learn how to do the following:\n",
    "\n",
    "*   Instantiate an `sagemaker.Estimator`\n",
    "*   Construct a custom model function\n",
    "*   Configure a neural network using `tf.feature_column` and `tf.layers`\n",
    "*   Choose an appropriate loss function from `tf.losses`\n",
    "*   Define a training op for your model\n",
    "*   Generate and return predictions"
   ]
  },
  {
   "cell_type": "markdown",
   "metadata": {},
   "source": [
    "## An Abalone Age Predictor\n",
    "\n",
    "It's possible to estimate the age of an\n",
    "[abalone](https://en.wikipedia.org/wiki/Abalone) (sea snail) by the number of\n",
    "rings on its shell. However, because this task requires cutting, staining, and\n",
    "viewing the shell under a microscope, it's desirable to find other measurements\n",
    "that can predict age.\n",
    "\n",
    "The [Abalone Data Set](https://archive.ics.uci.edu/ml/datasets/Abalone) contains\n",
    "the following\n",
    "[feature data](https://archive.ics.uci.edu/ml/machine-learning-databases/abalone/abalone.names)\n",
    "for abalone:\n",
    "\n",
    "| Feature        | Description                                               |\n",
    "| -------------- | --------------------------------------------------------- |\n",
    "| Length         | Length of abalone (in longest direction; in mm)           |\n",
    "| Diameter       | Diameter of abalone (measurement perpendicular to length; in mm)|\n",
    "| Height         | Height of abalone (with its meat inside shell; in mm)     |\n",
    "| Whole Weight   | Weight of entire abalone (in grams)                       |\n",
    "| Shucked Weight | Weight of abalone meat only (in grams)                    |\n",
    "| Viscera Weight | Gut weight of abalone (in grams), after bleeding          |\n",
    "| Shell Weight   | Weight of dried abalone shell (in grams)                  |\n",
    "\n",
    "The label to predict is number of rings, as a proxy for abalone age."
   ]
  },
  {
   "cell_type": "markdown",
   "metadata": {},
   "source": [
    "### Set up the environment"
   ]
  },
  {
   "cell_type": "code",
   "execution_count": null,
   "metadata": {
    "collapsed": true
   },
   "outputs": [],
   "source": [
    "import os\n",
    "import sagemaker\n",
    "from sagemaker import get_execution_role\n",
    "\n",
    "sagemaker_session = sagemaker.Session()\n",
    "\n",
    "role = get_execution_role()"
   ]
  },
  {
   "cell_type": "markdown",
   "metadata": {},
   "source": [
    "### Upload the data to a S3 bucket"
   ]
  },
  {
   "cell_type": "code",
   "execution_count": null,
   "metadata": {
    "collapsed": true
   },
   "outputs": [],
   "source": [
    "inputs = sagemaker_session.upload_data(path='data', key_prefix='data/DEMO-abalone')"
   ]
  },
  {
   "cell_type": "markdown",
   "metadata": {},
   "source": [
    "**sagemaker_session.upload_data** will upload the abalone dataset from your machine to a bucket named **sagemaker-{region}-{your aws account number}**, if you don't have this bucket yet, sagemaker_session will create it for you."
   ]
  },
  {
   "cell_type": "markdown",
   "metadata": {},
   "source": [
    "## Complete source code\n",
    "Here is the full code for the network model:"
   ]
  },
  {
   "cell_type": "code",
   "execution_count": null,
   "metadata": {
    "scrolled": false
   },
   "outputs": [],
   "source": [
    "!cat 'abalone.py'"
   ]
  },
  {
   "cell_type": "markdown",
   "metadata": {},
   "source": [
    "# Submitting script for training"
   ]
  },
  {
   "cell_type": "code",
   "execution_count": null,
   "metadata": {
    "scrolled": false
   },
   "outputs": [],
   "source": [
    "from sagemaker.tensorflow import TensorFlow\n",
    "\n",
    "abalone_estimator = TensorFlow(entry_point='abalone.py',\n",
    "                               role=role,\n",
    "                               training_steps= 100,                                  \n",
    "                               evaluation_steps= 100,\n",
    "                               hyperparameters={'learning_rate': 0.001},\n",
    "                               train_instance_count=1,\n",
    "                               train_instance_type='ml.c4.xlarge')\n",
    "\n",
    "abalone_estimator.fit(inputs)"
   ]
  },
  {
   "cell_type": "markdown",
   "metadata": {},
   "source": [
    "`estimator.fit` will deploy a script in a container for training and returs the SageMaker model name using the following arguments:\n",
    "\n",
    "*   **`entry_point=\"abalone.py\"`** The path to the script that will be deployed to the container.\n",
    "*   **`training_steps=100`** The number of training steps of the training job.\n",
    "*   **`evaluation_steps=100`** The number of evaluation steps of the training job.\n",
    "*   **`role`**. AWS role that gives your account access to SageMaker training and hosting\n",
    "*   **`hyperparameters={'learning_rate' : 0.001}`**. Training hyperparameters. \n",
    "\n",
    "Running the code block above will do the following actions:\n",
    "* deploy your script in a container with tensorflow installed\n",
    "* copy the data from the bucket to the container\n",
    "* instantiate the tf.estimator\n",
    "* train the estimator with 100 training steps\n",
    "* save the estimator model"
   ]
  },
  {
   "cell_type": "markdown",
   "metadata": {},
   "source": [
    "# Submiting a trained model for hosting\n"
   ]
  },
  {
   "cell_type": "code",
   "execution_count": null,
   "metadata": {
    "collapsed": true
   },
   "outputs": [],
   "source": [
    "abalone_predictor = abalone_estimator.deploy(initial_instance_count=1, instance_type='ml.m4.xlarge')"
   ]
  },
  {
   "cell_type": "markdown",
   "metadata": {},
   "source": [
    "`abalone_estimator.deploy` deploys the trained model in a container ready for production."
   ]
  },
  {
   "cell_type": "markdown",
   "metadata": {},
   "source": [
    "# Invoking the endpoint"
   ]
  },
  {
   "cell_type": "code",
   "execution_count": null,
   "metadata": {
    "collapsed": true
   },
   "outputs": [],
   "source": [
    "import tensorflow as tf\n",
    "import numpy as np\n",
    "\n",
    "prediction_set = tf.contrib.learn.datasets.base.load_csv_without_header(\n",
    "    filename=os.path.join('data/abalone_predict.csv'), target_dtype=np.int, features_dtype=np.float32)\n",
    "\n",
    "data = prediction_set.data[0]\n",
    "tensor_proto = tf.make_tensor_proto(values=np.asarray(data), shape=[1, len(data)], dtype=tf.float32)"
   ]
  },
  {
   "cell_type": "code",
   "execution_count": null,
   "metadata": {
    "collapsed": true
   },
   "outputs": [],
   "source": [
    "abalone_predictor.predict(tensor_proto)"
   ]
  },
  {
   "cell_type": "markdown",
   "metadata": {},
   "source": [
    "# Deleting the endpoint"
   ]
  },
  {
   "cell_type": "code",
   "execution_count": null,
   "metadata": {
    "collapsed": true
   },
   "outputs": [],
   "source": [
    "sagemaker.Session().delete_endpoint(abalone_predictor.endpoint)"
   ]
  }
 ],
 "metadata": {
  "notice": "Copyright 2017 Amazon.com, Inc. or its affiliates. All Rights Reserved.  Licensed under the Apache License, Version 2.0 (the \"License\"). You may not use this file except in compliance with the License. A copy of the License is located at http://aws.amazon.com/apache2.0/ or in the \"license\" file accompanying this file. This file is distributed on an \"AS IS\" BASIS, WITHOUT WARRANTIES OR CONDITIONS OF ANY KIND, either express or implied. See the License for the specific language governing permissions and limitations under the License.",
  "kernelspec": {
   "display_name": "Environment (conda_tensorflow_p27)",
   "language": "python",
   "name": "conda_tensorflow_p27"
  },
  "language_info": {
   "codemirror_mode": {
    "name": "ipython",
    "version": 3
   },
   "file_extension": ".py",
   "mimetype": "text/x-python",
   "name": "python",
   "nbconvert_exporter": "python",
   "pygments_lexer": "ipython3",
   "version": "2.7.13"
  }
 },
 "nbformat": 4,
 "nbformat_minor": 2
}
